{
 "cells": [
  {
   "cell_type": "markdown",
   "metadata": {},
   "source": [
    "# Отчет по второму заданию по курсу <<Суперкомпьютерное моделирование и технологии>>\n",
    "\n",
    "\n",
    "\n",
    "\n",
    "\n",
    "## 1. Математическая постановка дифференциальное задачи\n",
    "\n",
    "В прямоугольной области:\n",
    "\n",
    "$$П = [A_1,A_2] \\times [B_1,B_2]$$\n",
    "\n",
    "требуется найти дважды гладкую функцию $u = u(x,y)$, удовлетворяющую дифференциальному уравнению\n",
    "\n",
    "$$ - \\Delta u = F(x,y), A_1 < x < A_2, B_1 < y < B_2 $$\n",
    "\n",
    "и дополнительному условию\n",
    "\n",
    "$$ u(x,y) = \\varphi (x,y) $$\n",
    "\n",
    "во всех граничных точках $(x,y)$ прямоугольника. Оператор Лапласа $ \\Delta $ определен равенством:\n",
    "\n",
    "$$ \\Delta u = \\frac{\\partial ^2 u}{\\partial x ^2} + \\frac{\\partial ^2 u}{\\partial y ^2} $$\n",
    "\n",
    "Вариантом задания определяются функции $F(x,y)$, $\\varphi (x,y)$, а также прямоугольная область $П$.\n",
    "\n",
    "\n",
    "\n",
    "\n",
    "\n",
    "## 2. Разностная схема решения задачи\n",
    "\n",
    "В расчетной области $Π$ определяется прямоугольная сетка\n",
    "\n",
    "$$ \\tilde{\\omega} = \\{ (x_i,y_j), \\; i = 0, 1, 2, ... , N_1, \\; j = 0, 1, 2, ... , N_2 \\} , $$\n",
    "\n",
    "где \n",
    "\n",
    "$ \\quad A_1 = x_0 < x_1 < x_2 < ... < x_{N_1} = A_2 $ --- разбиение отрезка $[A_1,A_2]$ оси $(ox)$,\n",
    " \n",
    "$ \\quad B_1 = y_0 < y_1 < y_2 < ... < y_{N_2} = B_2 $ --- разбиение отрезка $[B_1,B_2]$ оси $(oy)$.\n",
    "\n",
    "Через $\\omega _h$ обозначим множество внутренних, а через $\\gamma _h $ --- множество граничных узлов сетки $\\tilde{\\omega _h}$. Gecnm $h_i^{(1)} = x_{i+1} - x_i, \\; i = 0, 1, 2, ... N_1 - 1, h_j^{(2) = y_{j+1} - y_j, j = 0, 1, 2, ... , N_2 - 1 $ -- переменный шаг сетки по оси абсцисс и ординат соответственно. Средние шаги сетки определяются равенствами:\n",
    "\n",
    "$$ \\tilde{h_i^{1}} = 0.5\n",
    "\n",
    " ̄ h . Пусть h i = x i+1 − x i , i = 0, 1, 2, . . . , N 1 − 1, h j = y j+1 − y j , j = 0, 1, 2, . . . , N 2 − 1\n",
    "– переменный шаг сетки по оси абсцисс и ординат соответственно. Средние шаги сетки\n",
    "определяются равенствами:\n",
    "\n",
    "\n",
    "\n",
    "\n",
    "## 3. Вариант задания\n",
    "\n",
    "Задание было выполнено по варианту №13, в котором определяются следующие функции $F(x,y)$, $\\varphi (x,y)$ и прямоугольная область $П$:\n",
    "\n",
    "$$ F(x,y) = 4 (1 - 2(x+y)^2) e^{1 - (x + y)^2} $$ \n",
    "\n",
    "$$ \\varphi = e^{1 - (x + y)^2} $$\n",
    "\n",
    "$$П = [0,2] \\times [0,2]$$\n",
    "\n",
    "\n",
    "\n",
    "\n",
    "\n",
    "\n",
    "## 4. Описание проделанной работы\n",
    "\n",
    "\n",
    "\n",
    "## 5. Результаты расчетов\n",
    "\n",
    "\n",
    "\n",
    "\n",
    "\n",
    "## 6. Точное и приблеженное решение на сетке $2000 \\times 2000$ узлов\n",
    "\n"
   ]
  },
  {
   "cell_type": "markdown",
   "metadata": {},
   "source": [
    ""
   ]
  },
  {
   "cell_type": "markdown",
   "metadata": {},
   "source": [
    "$$П = \\sqrt{a^2 + b^2}$$"
   ]
  },
  {
   "cell_type": "code",
   "execution_count": 8,
   "metadata": {},
   "outputs": [],
   "source": [
    "from __future__ import division\n",
    "from IPython.display import display\n",
    "\n",
    "from sympy.interactive import printing\n",
    "printing.init_printing(use_latex='mathjax')\n",
    "\n",
    "import sympy as sym\n",
    "from sympy import *\n",
    "x, y, z = symbols(\"x y z\")\n",
    "k, m, n = symbols(\"k m n\", integer=True)\n",
    "f, g, h = map(Function, 'fgh')"
   ]
  }
 ],
 "metadata": {
  "kernelspec": {
   "display_name": "Python 2",
   "language": "python",
   "name": "python2"
  },
  "language_info": {
   "codemirror_mode": {
    "name": "ipython",
    "version": 2
   },
   "file_extension": ".py",
   "mimetype": "text/x-python",
   "name": "python",
   "nbconvert_exporter": "python",
   "pygments_lexer": "ipython2",
   "version": "2.7.6"
  }
 },
 "nbformat": 4,
 "nbformat_minor": 0
}
